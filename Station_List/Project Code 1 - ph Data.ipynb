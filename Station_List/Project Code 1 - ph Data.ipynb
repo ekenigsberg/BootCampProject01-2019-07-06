{
 "cells": [
  {
   "cell_type": "code",
   "execution_count": 25,
   "metadata": {},
   "outputs": [],
   "source": [
    "import pandas as pd\n",
    "import numpy as np\n",
    "import matplotlib.pyplot as plt"
   ]
  },
  {
   "cell_type": "code",
   "execution_count": 19,
   "metadata": {},
   "outputs": [],
   "source": [
    "csv_file1 = \"Resources/station_data.csv\"\n",
    "csv_file2 = \"Resources/pH_levels_82_92.csv\""
   ]
  },
  {
   "cell_type": "code",
   "execution_count": 21,
   "metadata": {},
   "outputs": [],
   "source": [
    "station_data = pd.read_csv(csv_file1)\n",
    "ph1_data = pd.read_csv(csv_file2)\n",
    "\n"
   ]
  },
  {
   "cell_type": "code",
   "execution_count": 22,
   "metadata": {},
   "outputs": [
    {
     "data": {
      "text/html": [
       "<div>\n",
       "<style scoped>\n",
       "    .dataframe tbody tr th:only-of-type {\n",
       "        vertical-align: middle;\n",
       "    }\n",
       "\n",
       "    .dataframe tbody tr th {\n",
       "        vertical-align: top;\n",
       "    }\n",
       "\n",
       "    .dataframe thead th {\n",
       "        text-align: right;\n",
       "    }\n",
       "</style>\n",
       "<table border=\"1\" class=\"dataframe\">\n",
       "  <thead>\n",
       "    <tr style=\"text-align: right;\">\n",
       "      <th></th>\n",
       "      <th>OrganizationIdentifier</th>\n",
       "      <th>OrganizationFormalName</th>\n",
       "      <th>MonitoringLocationIdentifier</th>\n",
       "      <th>HUCEightDigitCode</th>\n",
       "      <th>LatitudeMeasure</th>\n",
       "      <th>LongitudeMeasure</th>\n",
       "      <th>StateCode</th>\n",
       "      <th>CountyCode</th>\n",
       "    </tr>\n",
       "  </thead>\n",
       "  <tbody>\n",
       "    <tr>\n",
       "      <th>0</th>\n",
       "      <td>801478</td>\n",
       "      <td>California Gulch (US EPA Region 8)</td>\n",
       "      <td>0801478-ABW1</td>\n",
       "      <td>11020001.0</td>\n",
       "      <td>39.240000</td>\n",
       "      <td>-106.310000</td>\n",
       "      <td>8.0</td>\n",
       "      <td>65.0</td>\n",
       "    </tr>\n",
       "    <tr>\n",
       "      <th>1</th>\n",
       "      <td>801478</td>\n",
       "      <td>California Gulch (US EPA Region 8)</td>\n",
       "      <td>0801478-ABW2</td>\n",
       "      <td>11020001.0</td>\n",
       "      <td>39.253553</td>\n",
       "      <td>-106.306415</td>\n",
       "      <td>8.0</td>\n",
       "      <td>65.0</td>\n",
       "    </tr>\n",
       "    <tr>\n",
       "      <th>2</th>\n",
       "      <td>801478</td>\n",
       "      <td>California Gulch (US EPA Region 8)</td>\n",
       "      <td>0801478-ABW3</td>\n",
       "      <td>11020001.0</td>\n",
       "      <td>39.223434</td>\n",
       "      <td>-106.280909</td>\n",
       "      <td>8.0</td>\n",
       "      <td>65.0</td>\n",
       "    </tr>\n",
       "    <tr>\n",
       "      <th>3</th>\n",
       "      <td>801478</td>\n",
       "      <td>California Gulch (US EPA Region 8)</td>\n",
       "      <td>0801478-ABW4</td>\n",
       "      <td>11020001.0</td>\n",
       "      <td>39.229731</td>\n",
       "      <td>-106.307419</td>\n",
       "      <td>8.0</td>\n",
       "      <td>65.0</td>\n",
       "    </tr>\n",
       "    <tr>\n",
       "      <th>4</th>\n",
       "      <td>801478</td>\n",
       "      <td>California Gulch (US EPA Region 8)</td>\n",
       "      <td>0801478-AG-1</td>\n",
       "      <td>11020001.0</td>\n",
       "      <td>39.230000</td>\n",
       "      <td>-106.310000</td>\n",
       "      <td>8.0</td>\n",
       "      <td>65.0</td>\n",
       "    </tr>\n",
       "  </tbody>\n",
       "</table>\n",
       "</div>"
      ],
      "text/plain": [
       "  OrganizationIdentifier              OrganizationFormalName  \\\n",
       "0                 801478  California Gulch (US EPA Region 8)   \n",
       "1                 801478  California Gulch (US EPA Region 8)   \n",
       "2                 801478  California Gulch (US EPA Region 8)   \n",
       "3                 801478  California Gulch (US EPA Region 8)   \n",
       "4                 801478  California Gulch (US EPA Region 8)   \n",
       "\n",
       "  MonitoringLocationIdentifier  HUCEightDigitCode  LatitudeMeasure  \\\n",
       "0                 0801478-ABW1         11020001.0        39.240000   \n",
       "1                 0801478-ABW2         11020001.0        39.253553   \n",
       "2                 0801478-ABW3         11020001.0        39.223434   \n",
       "3                 0801478-ABW4         11020001.0        39.229731   \n",
       "4                 0801478-AG-1         11020001.0        39.230000   \n",
       "\n",
       "   LongitudeMeasure  StateCode  CountyCode  \n",
       "0       -106.310000        8.0        65.0  \n",
       "1       -106.306415        8.0        65.0  \n",
       "2       -106.280909        8.0        65.0  \n",
       "3       -106.307419        8.0        65.0  \n",
       "4       -106.310000        8.0        65.0  "
      ]
     },
     "execution_count": 22,
     "metadata": {},
     "output_type": "execute_result"
    }
   ],
   "source": [
    "station_data.head()"
   ]
  },
  {
   "cell_type": "code",
   "execution_count": 29,
   "metadata": {},
   "outputs": [
    {
     "data": {
      "text/plain": [
       "<matplotlib.collections.PathCollection at 0x45efe6d8>"
      ]
     },
     "execution_count": 29,
     "metadata": {},
     "output_type": "execute_result"
    },
    {
     "data": {
      "image/png": "[encoded data removed]",
      "text/plain": [
       "<Figure size 432x288 with 1 Axes>"
      ]
     },
     "metadata": {
      "needs_background": "light"
     },
     "output_type": "display_data"
    }
   ],
   "source": [
    "plt.scatter(station_data[\"LongitudeMeasure\"],station_data[\"LatitudeMeasure\"])"
   ]
  },
  {
   "cell_type": "code",
   "execution_count": 30,
   "metadata": {},
   "outputs": [
    {
     "data": {
      "text/plain": [
       "-80.600000     20\n",
       "-80.620000     17\n",
       "-80.570000     14\n",
       "-80.490000     14\n",
       "-80.670000     13\n",
       "-80.580000     13\n",
       "-80.510000     11\n",
       "-80.610000     11\n",
       " 0.000000      10\n",
       "-80.370000     10\n",
       "-80.640000      9\n",
       "-80.500000      8\n",
       "-121.540278     8\n",
       "-80.410000      8\n",
       "-80.800000      8\n",
       "-80.740000      7\n",
       "-86.300000      7\n",
       "-80.630000      7\n",
       "-80.650000      7\n",
       "-80.290000      6\n",
       "-93.683339      6\n",
       "-80.180000      6\n",
       "-80.250000      6\n",
       "-80.480000      6\n",
       "-80.460000      6\n",
       "-80.310000      6\n",
       "-80.230000      6\n",
       "-80.680000      6\n",
       "-80.710000      6\n",
       "-80.360000      5\n",
       "               ..\n",
       "-77.169200      1\n",
       "-81.309333      1\n",
       "-110.584594     1\n",
       "-111.168779     1\n",
       "-81.464218      1\n",
       "-81.662423      1\n",
       "-79.038010      1\n",
       "-117.261300     1\n",
       "-111.695203     1\n",
       "-111.227948     1\n",
       "-80.082000      1\n",
       "-86.678320      1\n",
       "-93.062522      1\n",
       "-79.776230      1\n",
       "-82.533798      1\n",
       "-86.558944      1\n",
       "-105.639333     1\n",
       "-117.314800     1\n",
       "-66.827222      1\n",
       "-83.692389      1\n",
       "-86.304740      1\n",
       "-77.957300      1\n",
       "-80.663333      1\n",
       "-84.848833      1\n",
       "-81.111500      1\n",
       "-80.175270      1\n",
       "-95.554805      1\n",
       "-78.733100      1\n",
       "-84.338666      1\n",
       "-118.938667     1\n",
       "Name: LongitudeMeasure, Length: 13836, dtype: int64"
      ]
     },
     "execution_count": 30,
     "metadata": {},
     "output_type": "execute_result"
    }
   ],
   "source": [
    "station_data[\"LongitudeMeasure\"].value_counts()"
   ]
  },
  {
   "cell_type": "code",
   "execution_count": 38,
   "metadata": {},
   "outputs": [
    {
     "data": {
      "text/plain": [
       "<matplotlib.collections.PathCollection at 0x42423cf8>"
      ]
     },
     "execution_count": 38,
     "metadata": {},
     "output_type": "execute_result"
    },
    {
     "data": {
      "image/png": "[encoded data removed]",
      "text/plain": [
       "<Figure size 432x288 with 1 Axes>"
      ]
     },
     "metadata": {
      "needs_background": "light"
     },
     "output_type": "display_data"
    }
   ],
   "source": [
    "\n",
    "cleaned_station_data = station_data.loc[station_data[\"LongitudeMeasure\"] <= -5]\n",
    "\n",
    "plt.scatter(cleaned_station_data[\"LongitudeMeasure\"],cleaned_station_data[\"LatitudeMeasure\"])"
   ]
  },
  {
   "cell_type": "code",
   "execution_count": 39,
   "metadata": {},
   "outputs": [],
   "source": [
    "cleaned_station_data.to_csv(\"Station_List.csv\",index=False, header=True)"
   ]
  },
  {
   "cell_type": "code",
   "execution_count": null,
   "metadata": {},
   "outputs": [],
   "source": []
  }
 ],
 "metadata": {
  "kernelspec": {
   "display_name": "Python 3",
   "language": "python",
   "name": "python3"
  },
  "language_info": {
   "codemirror_mode": {
    "name": "ipython",
    "version": 3
   },
   "file_extension": ".py",
   "mimetype": "text/x-python",
   "name": "python",
   "nbconvert_exporter": "python",
   "pygments_lexer": "ipython3",
   "version": "3.7.3"
  }
 },
 "nbformat": 4,
 "nbformat_minor": 2
}
