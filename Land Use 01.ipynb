{
 "cells": [
  {
   "cell_type": "markdown",
   "metadata": {},
   "source": [
    "# LAND USE 01: LAND USE MAP GENERATOR\n",
    "Note: this notebook generates 17 high-density plotly maps.\n",
    "It runs pretty slowly."
   ]
  },
  {
   "cell_type": "markdown",
   "metadata": {},
   "source": [
    "# 01) IMPORT RAW DATA"
   ]
  },
  {
   "cell_type": "code",
   "execution_count": 1,
   "metadata": {},
   "outputs": [],
   "source": [
    "import pandas as pd"
   ]
  },
  {
   "cell_type": "code",
   "execution_count": 2,
   "metadata": {},
   "outputs": [],
   "source": [
    "# lookup table: county codes (from http://bit.ly/F7XW4J1JDataset0)\n",
    "strCounty = 'F7XW4J1J (Anthropogenic Influences)/Dataset0_Boundary_IDs/boundary_ids-counties.txt'\n",
    "# lookup table: state FIPS (from https://en.wikipedia.org/wiki/Federal_Information_Processing_Standard_state_code)\n",
    "strFIPS = 'F7XW4J1J (Anthropogenic Influences)/StateFIPS.csv'\n",
    "# lookup table: NAWQA Wall-to-Wall Anthropogenic Landuse Trends (NWALT) fields (from http://bit.ly/F7XW4J1JDataset8)\n",
    "strNWALT = 'F7XW4J1J (Anthropogenic Influences)/NWALT.csv'"
   ]
  },
  {
   "cell_type": "code",
   "execution_count": 3,
   "metadata": {},
   "outputs": [],
   "source": [
    "# import lookup tables\n",
    "dfCounty = pd.read_csv(strCounty)\n",
    "dfFIPS = pd.read_csv(strFIPS)\n",
    "dfNWALT = pd.read_csv(strNWALT)"
   ]
  },
  {
   "cell_type": "code",
   "execution_count": 4,
   "metadata": {},
   "outputs": [
    {
     "data": {
      "text/html": [
       "<div>\n",
       "<style scoped>\n",
       "    .dataframe tbody tr th:only-of-type {\n",
       "        vertical-align: middle;\n",
       "    }\n",
       "\n",
       "    .dataframe tbody tr th {\n",
       "        vertical-align: top;\n",
       "    }\n",
       "\n",
       "    .dataframe thead th {\n",
       "        text-align: right;\n",
       "    }\n",
       "</style>\n",
       "<table border=\"1\" class=\"dataframe\">\n",
       "  <thead>\n",
       "    <tr style=\"text-align: right;\">\n",
       "      <th></th>\n",
       "      <th>uniqid_co</th>\n",
       "      <th>GEOID10</th>\n",
       "      <th>NAMELSAD10</th>\n",
       "      <th>areakm2</th>\n",
       "    </tr>\n",
       "  </thead>\n",
       "  <tbody>\n",
       "    <tr>\n",
       "      <th>0</th>\n",
       "      <td>1</td>\n",
       "      <td>4019</td>\n",
       "      <td>Pima County</td>\n",
       "      <td>23799.8</td>\n",
       "    </tr>\n",
       "    <tr>\n",
       "      <th>1</th>\n",
       "      <td>2</td>\n",
       "      <td>4017</td>\n",
       "      <td>Navajo County</td>\n",
       "      <td>25795.6</td>\n",
       "    </tr>\n",
       "    <tr>\n",
       "      <th>2</th>\n",
       "      <td>3</td>\n",
       "      <td>4012</td>\n",
       "      <td>La Paz County</td>\n",
       "      <td>11690.5</td>\n",
       "    </tr>\n",
       "    <tr>\n",
       "      <th>3</th>\n",
       "      <td>4</td>\n",
       "      <td>4007</td>\n",
       "      <td>Gila County</td>\n",
       "      <td>12420.2</td>\n",
       "    </tr>\n",
       "    <tr>\n",
       "      <th>4</th>\n",
       "      <td>5</td>\n",
       "      <td>4027</td>\n",
       "      <td>Yuma County</td>\n",
       "      <td>14294.4</td>\n",
       "    </tr>\n",
       "  </tbody>\n",
       "</table>\n",
       "</div>"
      ],
      "text/plain": [
       "   uniqid_co  GEOID10     NAMELSAD10  areakm2\n",
       "0          1     4019    Pima County  23799.8\n",
       "1          2     4017  Navajo County  25795.6\n",
       "2          3     4012  La Paz County  11690.5\n",
       "3          4     4007    Gila County  12420.2\n",
       "4          5     4027    Yuma County  14294.4"
      ]
     },
     "execution_count": 4,
     "metadata": {},
     "output_type": "execute_result"
    }
   ],
   "source": [
    "# examine County lookup dataframe\n",
    "dfCounty.head()"
   ]
  },
  {
   "cell_type": "code",
   "execution_count": 5,
   "metadata": {},
   "outputs": [
    {
     "data": {
      "text/html": [
       "<div>\n",
       "<style scoped>\n",
       "    .dataframe tbody tr th:only-of-type {\n",
       "        vertical-align: middle;\n",
       "    }\n",
       "\n",
       "    .dataframe tbody tr th {\n",
       "        vertical-align: top;\n",
       "    }\n",
       "\n",
       "    .dataframe thead th {\n",
       "        text-align: right;\n",
       "    }\n",
       "</style>\n",
       "<table border=\"1\" class=\"dataframe\">\n",
       "  <thead>\n",
       "    <tr style=\"text-align: right;\">\n",
       "      <th></th>\n",
       "      <th>State</th>\n",
       "      <th>St</th>\n",
       "      <th>FIPS</th>\n",
       "    </tr>\n",
       "  </thead>\n",
       "  <tbody>\n",
       "    <tr>\n",
       "      <th>0</th>\n",
       "      <td>Alabama</td>\n",
       "      <td>AL</td>\n",
       "      <td>1</td>\n",
       "    </tr>\n",
       "    <tr>\n",
       "      <th>1</th>\n",
       "      <td>Alaska</td>\n",
       "      <td>AK</td>\n",
       "      <td>2</td>\n",
       "    </tr>\n",
       "    <tr>\n",
       "      <th>2</th>\n",
       "      <td>American Samoa</td>\n",
       "      <td>AS</td>\n",
       "      <td>60</td>\n",
       "    </tr>\n",
       "    <tr>\n",
       "      <th>3</th>\n",
       "      <td>American Samoa</td>\n",
       "      <td>NaN</td>\n",
       "      <td>3</td>\n",
       "    </tr>\n",
       "    <tr>\n",
       "      <th>4</th>\n",
       "      <td>Arizona</td>\n",
       "      <td>AZ</td>\n",
       "      <td>4</td>\n",
       "    </tr>\n",
       "  </tbody>\n",
       "</table>\n",
       "</div>"
      ],
      "text/plain": [
       "            State   St  FIPS\n",
       "0         Alabama   AL     1\n",
       "1          Alaska   AK     2\n",
       "2  American Samoa   AS    60\n",
       "3  American Samoa  NaN     3\n",
       "4         Arizona   AZ     4"
      ]
     },
     "execution_count": 5,
     "metadata": {},
     "output_type": "execute_result"
    }
   ],
   "source": [
    "# examine State lookup dataframe\n",
    "dfFIPS.head()"
   ]
  },
  {
   "cell_type": "code",
   "execution_count": 6,
   "metadata": {},
   "outputs": [
    {
     "data": {
      "text/html": [
       "<div>\n",
       "<style scoped>\n",
       "    .dataframe tbody tr th:only-of-type {\n",
       "        vertical-align: middle;\n",
       "    }\n",
       "\n",
       "    .dataframe tbody tr th {\n",
       "        vertical-align: top;\n",
       "    }\n",
       "\n",
       "    .dataframe thead th {\n",
       "        text-align: right;\n",
       "    }\n",
       "</style>\n",
       "<table border=\"1\" class=\"dataframe\">\n",
       "  <thead>\n",
       "    <tr style=\"text-align: right;\">\n",
       "      <th></th>\n",
       "      <th>Class</th>\n",
       "      <th>Defn</th>\n",
       "      <th>Definition</th>\n",
       "    </tr>\n",
       "  </thead>\n",
       "  <tbody>\n",
       "    <tr>\n",
       "      <th>0</th>\n",
       "      <td>11</td>\n",
       "      <td>Water</td>\n",
       "      <td>Water</td>\n",
       "    </tr>\n",
       "    <tr>\n",
       "      <th>1</th>\n",
       "      <td>12</td>\n",
       "      <td>Wetlands</td>\n",
       "      <td>Core Wetlands</td>\n",
       "    </tr>\n",
       "    <tr>\n",
       "      <th>2</th>\n",
       "      <td>21</td>\n",
       "      <td>Dev-Trans</td>\n",
       "      <td>Developed, Transportation: Major roads, rail a...</td>\n",
       "    </tr>\n",
       "    <tr>\n",
       "      <th>3</th>\n",
       "      <td>22</td>\n",
       "      <td>Dev-CommSvcs</td>\n",
       "      <td>Developed, Commercial/Services</td>\n",
       "    </tr>\n",
       "    <tr>\n",
       "      <th>4</th>\n",
       "      <td>23</td>\n",
       "      <td>Dev-IndMil</td>\n",
       "      <td>Developed, Industrial/Military</td>\n",
       "    </tr>\n",
       "  </tbody>\n",
       "</table>\n",
       "</div>"
      ],
      "text/plain": [
       "   Class          Defn                                         Definition\n",
       "0     11         Water                                              Water\n",
       "1     12      Wetlands                                      Core Wetlands\n",
       "2     21     Dev-Trans  Developed, Transportation: Major roads, rail a...\n",
       "3     22  Dev-CommSvcs                     Developed, Commercial/Services\n",
       "4     23    Dev-IndMil                     Developed, Industrial/Military"
      ]
     },
     "execution_count": 6,
     "metadata": {},
     "output_type": "execute_result"
    }
   ],
   "source": [
    "# examine NWALT lookup dataframe\n",
    "dfNWALT.head()"
   ]
  },
  {
   "cell_type": "code",
   "execution_count": 7,
   "metadata": {},
   "outputs": [],
   "source": [
    "# define paths to source files (from http://bit.ly/F7XW4J1JDataset8)\n",
    "strLand1982 = 'F7XW4J1J (Anthropogenic Influences)/Dataset8_LandUse/landuse-county-nwalt1982.txt'\n",
    "strLand1992 = 'F7XW4J1J (Anthropogenic Influences)/Dataset8_LandUse/landuse-county-nwalt1992.txt'\n",
    "strLand2002 = 'F7XW4J1J (Anthropogenic Influences)/Dataset8_LandUse/landuse-county-nwalt2002.txt'\n",
    "strLand2012 = 'F7XW4J1J (Anthropogenic Influences)/Dataset8_LandUse/landuse-county-nwalt2012.txt'"
   ]
  },
  {
   "cell_type": "code",
   "execution_count": 8,
   "metadata": {},
   "outputs": [],
   "source": [
    "# import data\n",
    "dfLand1982 = pd.read_csv(strLand1982)\n",
    "dfLand1992 = pd.read_csv(strLand1992)\n",
    "dfLand2002 = pd.read_csv(strLand2002)\n",
    "dfLand2012 = pd.read_csv(strLand2012)"
   ]
  },
  {
   "cell_type": "code",
   "execution_count": 9,
   "metadata": {
    "scrolled": true
   },
   "outputs": [
    {
     "data": {
      "text/html": [
       "<div>\n",
       "<style scoped>\n",
       "    .dataframe tbody tr th:only-of-type {\n",
       "        vertical-align: middle;\n",
       "    }\n",
       "\n",
       "    .dataframe tbody tr th {\n",
       "        vertical-align: top;\n",
       "    }\n",
       "\n",
       "    .dataframe thead th {\n",
       "        text-align: right;\n",
       "    }\n",
       "</style>\n",
       "<table border=\"1\" class=\"dataframe\">\n",
       "  <thead>\n",
       "    <tr style=\"text-align: right;\">\n",
       "      <th></th>\n",
       "      <th>uniqid_county</th>\n",
       "      <th>NWALT12_11_county</th>\n",
       "      <th>NWALT12_12_county</th>\n",
       "      <th>NWALT12_21_county</th>\n",
       "      <th>NWALT12_22_county</th>\n",
       "      <th>NWALT12_23_county</th>\n",
       "      <th>NWALT12_24_county</th>\n",
       "      <th>NWALT12_25_county</th>\n",
       "      <th>NWALT12_26_county</th>\n",
       "      <th>NWALT12_27_county</th>\n",
       "      <th>...</th>\n",
       "      <th>NWALT12_32_county</th>\n",
       "      <th>NWALT12_33_county</th>\n",
       "      <th>NWALT12_41_county</th>\n",
       "      <th>NWALT12_43_county</th>\n",
       "      <th>NWALT12_44_county</th>\n",
       "      <th>NWALT12_45_county</th>\n",
       "      <th>NWALT12_46_county</th>\n",
       "      <th>NWALT12_50_county</th>\n",
       "      <th>NWALT12_60_county</th>\n",
       "      <th>NWALT12_9999_county</th>\n",
       "    </tr>\n",
       "  </thead>\n",
       "  <tbody>\n",
       "    <tr>\n",
       "      <th>0</th>\n",
       "      <td>1</td>\n",
       "      <td>0.03</td>\n",
       "      <td>0.01</td>\n",
       "      <td>0.23</td>\n",
       "      <td>0.41</td>\n",
       "      <td>0.16</td>\n",
       "      <td>0.21</td>\n",
       "      <td>0.75</td>\n",
       "      <td>1.27</td>\n",
       "      <td>0.19</td>\n",
       "      <td>...</td>\n",
       "      <td>3.35</td>\n",
       "      <td>0.02</td>\n",
       "      <td>0.52</td>\n",
       "      <td>0.48</td>\n",
       "      <td>0.02</td>\n",
       "      <td>0.00</td>\n",
       "      <td>1.56</td>\n",
       "      <td>75.77</td>\n",
       "      <td>14.41</td>\n",
       "      <td>0.03</td>\n",
       "    </tr>\n",
       "    <tr>\n",
       "      <th>1</th>\n",
       "      <td>2</td>\n",
       "      <td>0.06</td>\n",
       "      <td>0.01</td>\n",
       "      <td>0.18</td>\n",
       "      <td>0.05</td>\n",
       "      <td>0.01</td>\n",
       "      <td>0.02</td>\n",
       "      <td>0.01</td>\n",
       "      <td>0.17</td>\n",
       "      <td>0.07</td>\n",
       "      <td>...</td>\n",
       "      <td>0.84</td>\n",
       "      <td>0.02</td>\n",
       "      <td>0.03</td>\n",
       "      <td>0.06</td>\n",
       "      <td>0.10</td>\n",
       "      <td>0.01</td>\n",
       "      <td>10.73</td>\n",
       "      <td>87.19</td>\n",
       "      <td>0.44</td>\n",
       "      <td>0.00</td>\n",
       "    </tr>\n",
       "    <tr>\n",
       "      <th>2</th>\n",
       "      <td>3</td>\n",
       "      <td>0.28</td>\n",
       "      <td>0.03</td>\n",
       "      <td>0.24</td>\n",
       "      <td>0.03</td>\n",
       "      <td>0.00</td>\n",
       "      <td>0.01</td>\n",
       "      <td>0.03</td>\n",
       "      <td>0.07</td>\n",
       "      <td>0.08</td>\n",
       "      <td>...</td>\n",
       "      <td>0.38</td>\n",
       "      <td>0.00</td>\n",
       "      <td>0.00</td>\n",
       "      <td>0.56</td>\n",
       "      <td>4.11</td>\n",
       "      <td>0.10</td>\n",
       "      <td>3.11</td>\n",
       "      <td>80.14</td>\n",
       "      <td>10.81</td>\n",
       "      <td>0.00</td>\n",
       "    </tr>\n",
       "    <tr>\n",
       "      <th>3</th>\n",
       "      <td>4</td>\n",
       "      <td>0.67</td>\n",
       "      <td>0.01</td>\n",
       "      <td>0.18</td>\n",
       "      <td>0.04</td>\n",
       "      <td>0.01</td>\n",
       "      <td>0.03</td>\n",
       "      <td>0.03</td>\n",
       "      <td>0.19</td>\n",
       "      <td>0.07</td>\n",
       "      <td>...</td>\n",
       "      <td>0.57</td>\n",
       "      <td>0.00</td>\n",
       "      <td>0.25</td>\n",
       "      <td>0.01</td>\n",
       "      <td>0.01</td>\n",
       "      <td>0.00</td>\n",
       "      <td>0.01</td>\n",
       "      <td>89.52</td>\n",
       "      <td>8.38</td>\n",
       "      <td>0.00</td>\n",
       "    </tr>\n",
       "    <tr>\n",
       "      <th>4</th>\n",
       "      <td>5</td>\n",
       "      <td>0.15</td>\n",
       "      <td>0.02</td>\n",
       "      <td>0.22</td>\n",
       "      <td>0.19</td>\n",
       "      <td>0.12</td>\n",
       "      <td>0.05</td>\n",
       "      <td>0.32</td>\n",
       "      <td>0.23</td>\n",
       "      <td>0.11</td>\n",
       "      <td>...</td>\n",
       "      <td>0.49</td>\n",
       "      <td>0.01</td>\n",
       "      <td>0.01</td>\n",
       "      <td>5.04</td>\n",
       "      <td>0.75</td>\n",
       "      <td>0.02</td>\n",
       "      <td>0.19</td>\n",
       "      <td>65.57</td>\n",
       "      <td>26.35</td>\n",
       "      <td>0.06</td>\n",
       "    </tr>\n",
       "  </tbody>\n",
       "</table>\n",
       "<p>5 rows × 21 columns</p>\n",
       "</div>"
      ],
      "text/plain": [
       "   uniqid_county  NWALT12_11_county  NWALT12_12_county  NWALT12_21_county  \\\n",
       "0              1               0.03               0.01               0.23   \n",
       "1              2               0.06               0.01               0.18   \n",
       "2              3               0.28               0.03               0.24   \n",
       "3              4               0.67               0.01               0.18   \n",
       "4              5               0.15               0.02               0.22   \n",
       "\n",
       "   NWALT12_22_county  NWALT12_23_county  NWALT12_24_county  NWALT12_25_county  \\\n",
       "0               0.41               0.16               0.21               0.75   \n",
       "1               0.05               0.01               0.02               0.01   \n",
       "2               0.03               0.00               0.01               0.03   \n",
       "3               0.04               0.01               0.03               0.03   \n",
       "4               0.19               0.12               0.05               0.32   \n",
       "\n",
       "   NWALT12_26_county  NWALT12_27_county  ...  NWALT12_32_county  \\\n",
       "0               1.27               0.19  ...               3.35   \n",
       "1               0.17               0.07  ...               0.84   \n",
       "2               0.07               0.08  ...               0.38   \n",
       "3               0.19               0.07  ...               0.57   \n",
       "4               0.23               0.11  ...               0.49   \n",
       "\n",
       "   NWALT12_33_county  NWALT12_41_county  NWALT12_43_county  NWALT12_44_county  \\\n",
       "0               0.02               0.52               0.48               0.02   \n",
       "1               0.02               0.03               0.06               0.10   \n",
       "2               0.00               0.00               0.56               4.11   \n",
       "3               0.00               0.25               0.01               0.01   \n",
       "4               0.01               0.01               5.04               0.75   \n",
       "\n",
       "   NWALT12_45_county  NWALT12_46_county  NWALT12_50_county  NWALT12_60_county  \\\n",
       "0               0.00               1.56              75.77              14.41   \n",
       "1               0.01              10.73              87.19               0.44   \n",
       "2               0.10               3.11              80.14              10.81   \n",
       "3               0.00               0.01              89.52               8.38   \n",
       "4               0.02               0.19              65.57              26.35   \n",
       "\n",
       "   NWALT12_9999_county  \n",
       "0                 0.03  \n",
       "1                 0.00  \n",
       "2                 0.00  \n",
       "3                 0.00  \n",
       "4                 0.06  \n",
       "\n",
       "[5 rows x 21 columns]"
      ]
     },
     "execution_count": 9,
     "metadata": {},
     "output_type": "execute_result"
    }
   ],
   "source": [
    "# examine sample dataframe\n",
    "dfLand2012.head()"
   ]
  },
  {
   "cell_type": "markdown",
   "metadata": {},
   "source": [
    "# 02) REFORMAT DATA"
   ]
  },
  {
   "cell_type": "code",
   "execution_count": 10,
   "metadata": {},
   "outputs": [],
   "source": [
    "# County dataframe: create new col to capture 5-digit state & county GEOID\n",
    "dfCounty['GEOID5'] = ''\n",
    "dfCounty['GEOID5'] = dfCounty['GEOID10'].astype('object')\n",
    "# prepend four-digit GEOID5s with a zero\n",
    "dfCounty['GEOID5'] = dfCounty['GEOID5'].apply(lambda x: str(x).zfill(5))\n",
    "dfCounty['FIPS'] = dfCounty['GEOID5'].apply(lambda x: str(x)[:2])\n",
    "# drop GEOID10\n",
    "dfCounty = dfCounty.drop('GEOID10', axis=1)"
   ]
  },
  {
   "cell_type": "code",
   "execution_count": 11,
   "metadata": {},
   "outputs": [],
   "source": [
    "# FIPS dataframe: format FIPS column as two-digit string\n",
    "dfFIPS['FIPS'] = dfFIPS['FIPS'].astype('str')\n",
    "for index, var in enumerate(dfFIPS['FIPS']):\n",
    "    if float(var) < 10:\n",
    "        dfFIPS.loc[index, 'FIPS'] = '0' + str(var)"
   ]
  },
  {
   "cell_type": "code",
   "execution_count": 12,
   "metadata": {},
   "outputs": [],
   "source": [
    "# NWALT dataframe: ensure Classes are strings\n",
    "dfNWALT['Class'] = dfNWALT['Class'].astype('str')"
   ]
  },
  {
   "cell_type": "code",
   "execution_count": 13,
   "metadata": {},
   "outputs": [],
   "source": [
    "# define function to rename Land Use cols\n",
    "def RenameCols(df, strYr):\n",
    "    dictColNm = {'uniqid_county':'uniqid_co'}\n",
    "    for index, row in dfNWALT.iterrows():\n",
    "        dictColNm['NWALT' + strYr + '_' + dfNWALT.loc[index,'Class'] + '_county'] = \\\n",
    "            strYr + dfNWALT.loc[index,'Defn']\n",
    "    df = df.rename(columns=dictColNm)\n",
    "    return df"
   ]
  },
  {
   "cell_type": "code",
   "execution_count": 14,
   "metadata": {},
   "outputs": [],
   "source": [
    "# call Rename Columns() to give dataframes English names\n",
    "dfLand1982 = RenameCols(dfLand1982, '82')\n",
    "dfLand1992 = RenameCols(dfLand1992, '92')\n",
    "dfLand2002 = RenameCols(dfLand2002, '02')\n",
    "dfLand2012 = RenameCols(dfLand2012, '12')"
   ]
  },
  {
   "cell_type": "markdown",
   "metadata": {},
   "source": [
    "# 03) CREATE MASTER DATAFRAME & COMPUTE DIFFS"
   ]
  },
  {
   "cell_type": "code",
   "execution_count": 15,
   "metadata": {},
   "outputs": [],
   "source": [
    "# create master dataframe dfLand\n",
    "dfLand = pd.merge(dfLand1982, dfLand1992, on='uniqid_co')\n",
    "dfLand = pd.merge(dfLand, dfLand2002, on='uniqid_co')\n",
    "dfLand = pd.merge(dfLand, dfLand2012, on='uniqid_co')\n",
    "dfLand = pd.merge(dfLand, dfCounty, on='uniqid_co')\n",
    "dfLand = pd.merge(dfLand, dfFIPS, on='FIPS')"
   ]
  },
  {
   "cell_type": "code",
   "execution_count": 16,
   "metadata": {},
   "outputs": [],
   "source": [
    "# define function to compute percentage-point change in Land Use, 1982-2012\n",
    "def Compute82To12Chg(df, strCol):\n",
    "    df['Chg-'+strCol] = df['12'+strCol] - df['82'+strCol]\n",
    "    return"
   ]
  },
  {
   "cell_type": "code",
   "execution_count": 17,
   "metadata": {},
   "outputs": [],
   "source": [
    "# create percentage-point change in Land Use cols\n",
    "for row in dfNWALT.iterrows():\n",
    "    Compute82To12Chg(dfLand, row[1][1])"
   ]
  },
  {
   "cell_type": "code",
   "execution_count": 18,
   "metadata": {},
   "outputs": [],
   "source": [
    "# create Change dataframe\n",
    "dfLandChg = dfLand.filter(regex=\"Chg|GEOID5\")"
   ]
  },
  {
   "cell_type": "code",
   "execution_count": 19,
   "metadata": {},
   "outputs": [],
   "source": [
    "# export Change dataframe\n",
    "dfLandChg.to_csv('F7XW4J1J (Anthropogenic Influences)/Land Use Change, 1982-2012.csv', index=False, header=True)"
   ]
  },
  {
   "cell_type": "markdown",
   "metadata": {},
   "source": [
    "# 04) MAP DIFFS BY COUNTY"
   ]
  },
  {
   "cell_type": "code",
   "execution_count": 20,
   "metadata": {},
   "outputs": [],
   "source": [
    "# import plotly and set credentials\n",
    "from PlotlyConfig import un, pkey \n",
    "import plotly\n",
    "import plotly.plotly as py\n",
    "import plotly.figure_factory as ff\n",
    "import numpy as np\n",
    "plotly.tools.set_credentials_file(username=un, api_key=pkey)"
   ]
  },
  {
   "cell_type": "code",
   "execution_count": 22,
   "metadata": {},
   "outputs": [],
   "source": [
    "def MakeCtyFig(strVal, fRound=False, fBin=True, strPrefix='Chg-', strFIPS='GEOID5', df=dfLandChg):\n",
    "    # create lists of parameter values\n",
    "    lstFIPS = df[strFIPS].tolist()\n",
    "    lstVal = df[strPrefix + strVal].tolist()\n",
    "    if fRound:\n",
    "        lstVal = [round(val, 2) for val in lstVal]\n",
    "    # lstColor = ['#FF0000','#FF8000','#FFFF00','#80FF00','#00FF00','#00FF80','#0080FF','#0000FF'] 8-color ROYGB\n",
    "    lstColor = ['#FF0040','#FF0000','#FF2800','#FF5000', '#FF7800','#FFa000','#FFc800','#FFf000', \\\n",
    "                '#b0ff00','#17ff00','#00ff83','#00e4ff', '#00a4ff','#0064ff','#0022ff','#0100ff', \\\n",
    "                '#0500ff'] # 13-color ROYGB\n",
    "    intColor = len(lstColor)\n",
    "    intBinSize = 1 / (intColor + 1) * 100\n",
    "    lstBin = list(np.linspace(np.percentile(lstVal, intBinSize), \\\n",
    "                              np.percentile(lstVal, 100 - intBinSize), \\\n",
    "                              intColor - 1))\n",
    "    # set fig variable\n",
    "    if fBin:\n",
    "        fig = ff.create_choropleth(\n",
    "            fips=lstFIPS, values=lstVal,\n",
    "            binning_endpoints=lstBin,\n",
    "            colorscale=lstColor,\n",
    "            show_state_data=False,\n",
    "            show_hover=True, centroid_marker={'opacity': 0},\n",
    "            asp=2.9, title='Percentage Point Change in ' + \\\n",
    "                dfNWALT.loc[dfNWALT['Defn']==strVal, 'Definition'].iloc[0] + \\\n",
    "                ', 1982-2012',\n",
    "            legend_title='Percentage Point Change'\n",
    "        )\n",
    "    else:\n",
    "        fig = ff.create_choropleth(\n",
    "            fips=lstFIPS, values=lstVal,\n",
    "            title='Percentage Point Change in ' + \\\n",
    "                dfNWALT.loc[dfNWALT['Defn']==strVal, 'Definition'].iloc[0] + \\\n",
    "                ', 1982-2012',\n",
    "            legend_title='Percentage Point Change'\n",
    "        )\n",
    "        \n",
    "    return fig"
   ]
  },
  {
   "cell_type": "code",
   "execution_count": 23,
   "metadata": {
    "scrolled": true
   },
   "outputs": [],
   "source": [
    "# no data for Wetlands, VeryLowUse, or Unknown"
   ]
  },
  {
   "cell_type": "code",
   "execution_count": 24,
   "metadata": {},
   "outputs": [
    {
     "name": "stderr",
     "output_type": "stream",
     "text": [
      "C:\\Anaconda3\\lib\\site-packages\\pandas\\core\\frame.py:6692: FutureWarning:\n",
      "\n",
      "Sorting because non-concatenation axis is not aligned. A future version\n",
      "of pandas will change to not sort by default.\n",
      "\n",
      "To accept the future behavior, pass 'sort=False'.\n",
      "\n",
      "To retain the current behavior and silence the warning, pass 'sort=True'.\n",
      "\n",
      "\n"
     ]
    },
    {
     "name": "stdout",
     "output_type": "stream",
     "text": [
      "The draw time for this plot will be slow for clients without much RAM.\n"
     ]
    },
    {
     "name": "stderr",
     "output_type": "stream",
     "text": [
      "C:\\Anaconda3\\lib\\site-packages\\chart_studio\\api\\v1\\clientresp.py:44: UserWarning:\n",
      "\n",
      "Estimated Draw Time Slow\n",
      "\n",
      "C:\\Anaconda3\\lib\\site-packages\\IPython\\core\\display.py:689: UserWarning:\n",
      "\n",
      "Consider using IPython.display.IFrame instead\n",
      "\n"
     ]
    },
    {
     "data": {
      "text/html": [
       "<iframe id=\"igraph\" scrolling=\"no\" style=\"border:none;\" seamless=\"seamless\" src=\"https://plot.ly/~ekenigsberg/2.embed\" height=\"450px\" width=\"900px\"></iframe>"
      ],
      "text/plain": [
       "<chart_studio.tools.PlotlyDisplay object>"
      ]
     },
     "execution_count": 24,
     "metadata": {},
     "output_type": "execute_result"
    }
   ],
   "source": [
    "py.iplot(MakeCtyFig('Water', True), filename='choropleth_full_usa')"
   ]
  },
  {
   "cell_type": "code",
   "execution_count": 23,
   "metadata": {},
   "outputs": [
    {
     "name": "stdout",
     "output_type": "stream",
     "text": [
      "The draw time for this plot will be slow for clients without much RAM.\n"
     ]
    },
    {
     "data": {
      "text/html": [
       "<iframe id=\"igraph\" scrolling=\"no\" style=\"border:none;\" seamless=\"seamless\" src=\"https://plot.ly/~ekenigsberg/2.embed\" height=\"450px\" width=\"900px\"></iframe>"
      ],
      "text/plain": [
       "<chart_studio.tools.PlotlyDisplay object>"
      ]
     },
     "execution_count": 23,
     "metadata": {},
     "output_type": "execute_result"
    }
   ],
   "source": [
    "py.iplot(MakeCtyFig('Dev-Trans', True), filename='choropleth_full_usa')"
   ]
  },
  {
   "cell_type": "code",
   "execution_count": 24,
   "metadata": {},
   "outputs": [
    {
     "name": "stdout",
     "output_type": "stream",
     "text": [
      "The draw time for this plot will be slow for clients without much RAM.\n"
     ]
    },
    {
     "data": {
      "text/html": [
       "<iframe id=\"igraph\" scrolling=\"no\" style=\"border:none;\" seamless=\"seamless\" src=\"https://plot.ly/~ekenigsberg/2.embed\" height=\"450px\" width=\"900px\"></iframe>"
      ],
      "text/plain": [
       "<chart_studio.tools.PlotlyDisplay object>"
      ]
     },
     "execution_count": 24,
     "metadata": {},
     "output_type": "execute_result"
    }
   ],
   "source": [
    "py.iplot(MakeCtyFig('Dev-CommSvcs', True), filename='choropleth_full_usa')"
   ]
  },
  {
   "cell_type": "code",
   "execution_count": 25,
   "metadata": {},
   "outputs": [
    {
     "name": "stdout",
     "output_type": "stream",
     "text": [
      "The draw time for this plot will be slow for clients without much RAM.\n"
     ]
    },
    {
     "data": {
      "text/html": [
       "<iframe id=\"igraph\" scrolling=\"no\" style=\"border:none;\" seamless=\"seamless\" src=\"https://plot.ly/~ekenigsberg/2.embed\" height=\"450px\" width=\"900px\"></iframe>"
      ],
      "text/plain": [
       "<chart_studio.tools.PlotlyDisplay object>"
      ]
     },
     "execution_count": 25,
     "metadata": {},
     "output_type": "execute_result"
    }
   ],
   "source": [
    "py.iplot(MakeCtyFig('Dev-IndMil', True), filename='choropleth_full_usa')"
   ]
  },
  {
   "cell_type": "code",
   "execution_count": 26,
   "metadata": {},
   "outputs": [
    {
     "name": "stdout",
     "output_type": "stream",
     "text": [
      "The draw time for this plot will be slow for clients without much RAM.\n"
     ]
    },
    {
     "data": {
      "text/html": [
       "<iframe id=\"igraph\" scrolling=\"no\" style=\"border:none;\" seamless=\"seamless\" src=\"https://plot.ly/~ekenigsberg/2.embed\" height=\"450px\" width=\"900px\"></iframe>"
      ],
      "text/plain": [
       "<chart_studio.tools.PlotlyDisplay object>"
      ]
     },
     "execution_count": 26,
     "metadata": {},
     "output_type": "execute_result"
    }
   ],
   "source": [
    "py.iplot(MakeCtyFig('Dev-Recr', True), filename='choropleth_full_usa')"
   ]
  },
  {
   "cell_type": "code",
   "execution_count": 27,
   "metadata": {},
   "outputs": [
    {
     "name": "stdout",
     "output_type": "stream",
     "text": [
      "The draw time for this plot will be slow for clients without much RAM.\n"
     ]
    },
    {
     "data": {
      "text/html": [
       "<iframe id=\"igraph\" scrolling=\"no\" style=\"border:none;\" seamless=\"seamless\" src=\"https://plot.ly/~ekenigsberg/2.embed\" height=\"450px\" width=\"900px\"></iframe>"
      ],
      "text/plain": [
       "<chart_studio.tools.PlotlyDisplay object>"
      ]
     },
     "execution_count": 27,
     "metadata": {},
     "output_type": "execute_result"
    }
   ],
   "source": [
    "py.iplot(MakeCtyFig('Dev-ResHi', True), filename='choropleth_full_usa')"
   ]
  },
  {
   "cell_type": "code",
   "execution_count": 28,
   "metadata": {},
   "outputs": [
    {
     "name": "stdout",
     "output_type": "stream",
     "text": [
      "The draw time for this plot will be slow for clients without much RAM.\n"
     ]
    },
    {
     "data": {
      "text/html": [
       "<iframe id=\"igraph\" scrolling=\"no\" style=\"border:none;\" seamless=\"seamless\" src=\"https://plot.ly/~ekenigsberg/2.embed\" height=\"450px\" width=\"900px\"></iframe>"
      ],
      "text/plain": [
       "<chart_studio.tools.PlotlyDisplay object>"
      ]
     },
     "execution_count": 28,
     "metadata": {},
     "output_type": "execute_result"
    }
   ],
   "source": [
    "py.iplot(MakeCtyFig('Dev-ResLoMed', True), filename='choropleth_full_usa')"
   ]
  },
  {
   "cell_type": "code",
   "execution_count": 29,
   "metadata": {},
   "outputs": [
    {
     "name": "stdout",
     "output_type": "stream",
     "text": [
      "The draw time for this plot will be slow for clients without much RAM.\n"
     ]
    },
    {
     "data": {
      "text/html": [
       "<iframe id=\"igraph\" scrolling=\"no\" style=\"border:none;\" seamless=\"seamless\" src=\"https://plot.ly/~ekenigsberg/2.embed\" height=\"450px\" width=\"900px\"></iframe>"
      ],
      "text/plain": [
       "<chart_studio.tools.PlotlyDisplay object>"
      ]
     },
     "execution_count": 29,
     "metadata": {},
     "output_type": "execute_result"
    }
   ],
   "source": [
    "py.iplot(MakeCtyFig('Dev-Other', True), filename='choropleth_full_usa')"
   ]
  },
  {
   "cell_type": "code",
   "execution_count": 30,
   "metadata": {},
   "outputs": [
    {
     "name": "stdout",
     "output_type": "stream",
     "text": [
      "The draw time for this plot will be slow for clients without much RAM.\n"
     ]
    },
    {
     "data": {
      "text/html": [
       "<iframe id=\"igraph\" scrolling=\"no\" style=\"border:none;\" seamless=\"seamless\" src=\"https://plot.ly/~ekenigsberg/2.embed\" height=\"450px\" width=\"900px\"></iframe>"
      ],
      "text/plain": [
       "<chart_studio.tools.PlotlyDisplay object>"
      ]
     },
     "execution_count": 30,
     "metadata": {},
     "output_type": "execute_result"
    }
   ],
   "source": [
    "py.iplot(MakeCtyFig('SemiDev-UrbIntHi', True), filename='choropleth_full_usa')"
   ]
  },
  {
   "cell_type": "code",
   "execution_count": 31,
   "metadata": {},
   "outputs": [
    {
     "name": "stdout",
     "output_type": "stream",
     "text": [
      "The draw time for this plot will be slow for clients without much RAM.\n"
     ]
    },
    {
     "data": {
      "text/html": [
       "<iframe id=\"igraph\" scrolling=\"no\" style=\"border:none;\" seamless=\"seamless\" src=\"https://plot.ly/~ekenigsberg/2.embed\" height=\"450px\" width=\"900px\"></iframe>"
      ],
      "text/plain": [
       "<chart_studio.tools.PlotlyDisplay object>"
      ]
     },
     "execution_count": 31,
     "metadata": {},
     "output_type": "execute_result"
    }
   ],
   "source": [
    "py.iplot(MakeCtyFig('SemiDev-UrbIntLoMed', True), filename='choropleth_full_usa')"
   ]
  },
  {
   "cell_type": "code",
   "execution_count": 32,
   "metadata": {},
   "outputs": [
    {
     "name": "stdout",
     "output_type": "stream",
     "text": [
      "The draw time for this plot will be slow for all clients.\n"
     ]
    },
    {
     "name": "stderr",
     "output_type": "stream",
     "text": [
      "C:\\Anaconda3\\lib\\site-packages\\chart_studio\\api\\v1\\clientresp.py:44: UserWarning:\n",
      "\n",
      "Estimated Draw Time Too Long\n",
      "\n"
     ]
    },
    {
     "data": {
      "text/html": [
       "<iframe id=\"igraph\" scrolling=\"no\" style=\"border:none;\" seamless=\"seamless\" src=\"https://plot.ly/~ekenigsberg/2.embed\" height=\"450px\" width=\"900px\"></iframe>"
      ],
      "text/plain": [
       "<chart_studio.tools.PlotlyDisplay object>"
      ]
     },
     "execution_count": 32,
     "metadata": {},
     "output_type": "execute_result"
    }
   ],
   "source": [
    "py.iplot(MakeCtyFig('SemiDev-Other', True), filename='choropleth_full_usa')"
   ]
  },
  {
   "cell_type": "code",
   "execution_count": 33,
   "metadata": {},
   "outputs": [
    {
     "name": "stdout",
     "output_type": "stream",
     "text": [
      "The draw time for this plot will be slow for clients without much RAM.\n"
     ]
    },
    {
     "data": {
      "text/html": [
       "<iframe id=\"igraph\" scrolling=\"no\" style=\"border:none;\" seamless=\"seamless\" src=\"https://plot.ly/~ekenigsberg/2.embed\" height=\"450px\" width=\"900px\"></iframe>"
      ],
      "text/plain": [
       "<chart_studio.tools.PlotlyDisplay object>"
      ]
     },
     "execution_count": 33,
     "metadata": {},
     "output_type": "execute_result"
    }
   ],
   "source": [
    "py.iplot(MakeCtyFig('Mining', True), filename='choropleth_full_usa')"
   ]
  },
  {
   "cell_type": "code",
   "execution_count": 34,
   "metadata": {},
   "outputs": [
    {
     "name": "stdout",
     "output_type": "stream",
     "text": [
      "The draw time for this plot will be slow for clients without much RAM.\n"
     ]
    },
    {
     "data": {
      "text/html": [
       "<iframe id=\"igraph\" scrolling=\"no\" style=\"border:none;\" seamless=\"seamless\" src=\"https://plot.ly/~ekenigsberg/2.embed\" height=\"450px\" width=\"900px\"></iframe>"
      ],
      "text/plain": [
       "<chart_studio.tools.PlotlyDisplay object>"
      ]
     },
     "execution_count": 34,
     "metadata": {},
     "output_type": "execute_result"
    }
   ],
   "source": [
    "py.iplot(MakeCtyFig('Crops', True), filename='choropleth_full_usa')"
   ]
  },
  {
   "cell_type": "code",
   "execution_count": 35,
   "metadata": {},
   "outputs": [
    {
     "name": "stdout",
     "output_type": "stream",
     "text": [
      "The draw time for this plot will be slow for clients without much RAM.\n"
     ]
    },
    {
     "data": {
      "text/html": [
       "<iframe id=\"igraph\" scrolling=\"no\" style=\"border:none;\" seamless=\"seamless\" src=\"https://plot.ly/~ekenigsberg/2.embed\" height=\"450px\" width=\"900px\"></iframe>"
      ],
      "text/plain": [
       "<chart_studio.tools.PlotlyDisplay object>"
      ]
     },
     "execution_count": 35,
     "metadata": {},
     "output_type": "execute_result"
    }
   ],
   "source": [
    "py.iplot(MakeCtyFig('Pasture', True), filename='choropleth_full_usa')"
   ]
  },
  {
   "cell_type": "code",
   "execution_count": 36,
   "metadata": {},
   "outputs": [
    {
     "name": "stdout",
     "output_type": "stream",
     "text": [
      "The draw time for this plot will be slow for clients without much RAM.\n"
     ]
    },
    {
     "data": {
      "text/html": [
       "<iframe id=\"igraph\" scrolling=\"no\" style=\"border:none;\" seamless=\"seamless\" src=\"https://plot.ly/~ekenigsberg/2.embed\" height=\"450px\" width=\"900px\"></iframe>"
      ],
      "text/plain": [
       "<chart_studio.tools.PlotlyDisplay object>"
      ]
     },
     "execution_count": 36,
     "metadata": {},
     "output_type": "execute_result"
    }
   ],
   "source": [
    "py.iplot(MakeCtyFig('Grazing1', True), filename='choropleth_full_usa')"
   ]
  },
  {
   "cell_type": "code",
   "execution_count": 37,
   "metadata": {},
   "outputs": [
    {
     "name": "stdout",
     "output_type": "stream",
     "text": [
      "The draw time for this plot will be slow for clients without much RAM.\n"
     ]
    },
    {
     "data": {
      "text/html": [
       "<iframe id=\"igraph\" scrolling=\"no\" style=\"border:none;\" seamless=\"seamless\" src=\"https://plot.ly/~ekenigsberg/2.embed\" height=\"450px\" width=\"900px\"></iframe>"
      ],
      "text/plain": [
       "<chart_studio.tools.PlotlyDisplay object>"
      ]
     },
     "execution_count": 37,
     "metadata": {},
     "output_type": "execute_result"
    }
   ],
   "source": [
    "py.iplot(MakeCtyFig('Grazing2', True), filename='choropleth_full_usa')"
   ]
  },
  {
   "cell_type": "code",
   "execution_count": 38,
   "metadata": {},
   "outputs": [
    {
     "name": "stdout",
     "output_type": "stream",
     "text": [
      "The draw time for this plot will be slow for clients without much RAM.\n"
     ]
    },
    {
     "data": {
      "text/html": [
       "<iframe id=\"igraph\" scrolling=\"no\" style=\"border:none;\" seamless=\"seamless\" src=\"https://plot.ly/~ekenigsberg/2.embed\" height=\"450px\" width=\"900px\"></iframe>"
      ],
      "text/plain": [
       "<chart_studio.tools.PlotlyDisplay object>"
      ]
     },
     "execution_count": 38,
     "metadata": {},
     "output_type": "execute_result"
    }
   ],
   "source": [
    "py.iplot(MakeCtyFig('LowUse', True), filename='choropleth_full_usa')"
   ]
  }
 ],
 "metadata": {
  "kernelspec": {
   "display_name": "Python 3",
   "language": "python",
   "name": "python3"
  },
  "language_info": {
   "codemirror_mode": {
    "name": "ipython",
    "version": 3
   },
   "file_extension": ".py",
   "mimetype": "text/x-python",
   "name": "python",
   "nbconvert_exporter": "python",
   "pygments_lexer": "ipython3",
   "version": "3.7.3"
  }
 },
 "nbformat": 4,
 "nbformat_minor": 2
}
